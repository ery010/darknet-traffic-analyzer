{
 "cells": [
  {
   "cell_type": "markdown",
   "id": "882cd09b",
   "metadata": {},
   "source": [
    "# Multi-Model Darknet Traffic Analysis"
   ]
  },
  {
   "cell_type": "markdown",
   "id": "a981ac5c",
   "metadata": {},
   "source": [
    "## Introduction\n",
    "\n",
    "This project is an analysis of the [CIC-Darknet2020](https://www.kaggle.com/datasets/peterfriedrich1/cicdarknet2020-internet-traffic/data) data-set. The aim of this project is to develop machine learning models that can identify different types of internet traffic, such as traffic routed through darknets (like TOR) or VPNs. These models can be used to provide insights on potential malicious behavior, which is often associated with dark/deep web activity and IP masking through VPNs. Due to the major surge in cyber attacks and malicious/illegal internet activity over the past decade, it is extremely valuable to be able to identify patterns in network traffic and look for indications of suspicious behavior.\n",
    "\n",
    "Darknet and VPN services are not necessarily malicious in nature and may be used simply by the general user to remain anonymous on the internet. However, cybercriminals can also take advantage of these tools to avoid detection, which can harm people using them for benign activities. As more of the world becomes connected to the internet, it is important that we are armed with the tools for maintaining user safety and privacy."
   ]
  },
  {
   "cell_type": "markdown",
   "id": "25baad39",
   "metadata": {},
   "source": [
    "## Approach\n",
    "\n",
    "This project will be separated into the following segments:\n",
    "\n",
    "* Data exploration and cleaning (EDA)\n",
    "* Data processing\n",
    "* Model selection and implementation\n",
    "* Analyzing and interpreting results\n",
    "\n",
    "We will examine the data set to identify and explain the different features. Some data points may be incomplete or inputted improperly, which will require some steps of cleaning and/or manipulation. We will attempt to train different types of models, some of which may fit the data better than others."
   ]
  },
  {
   "cell_type": "markdown",
   "id": "dbf710f3",
   "metadata": {},
   "source": [
    "### Importing libraries"
   ]
  },
  {
   "cell_type": "code",
   "execution_count": 1,
   "id": "ec77b423",
   "metadata": {},
   "outputs": [],
   "source": [
    "import os\n",
    "import sys\n",
    "sys.path.append(os.path.abspath(os.path.join(os.getcwd(), '..')))\n",
    "\n",
    "import numpy as np\n",
    "import pandas as pd\n",
    "import matplotlib.pyplot as plt\n",
    "import seaborn as sns\n",
    "%matplotlib inline\n",
    "\n",
    "from sklearn.model_selection import train_test_split\n",
    "from sklearn.preprocessing import LabelEncoder\n",
    "from sklearn.metrics import accuracy_score, classification_report\n",
    "\n",
    "import warnings\n",
    "warnings.filterwarnings(\"ignore\")"
   ]
  },
  {
   "cell_type": "markdown",
   "id": "294b6467",
   "metadata": {},
   "source": [
    "### Load data"
   ]
  },
  {
   "cell_type": "code",
   "execution_count": 2,
   "id": "26e35bc0",
   "metadata": {},
   "outputs": [
    {
     "name": "stdout",
     "output_type": "stream",
     "text": [
      "Data size : 141530 data points, 85 columns\n"
     ]
    },
    {
     "data": {
      "text/html": [
       "<div>\n",
       "<style scoped>\n",
       "    .dataframe tbody tr th:only-of-type {\n",
       "        vertical-align: middle;\n",
       "    }\n",
       "\n",
       "    .dataframe tbody tr th {\n",
       "        vertical-align: top;\n",
       "    }\n",
       "\n",
       "    .dataframe thead th {\n",
       "        text-align: right;\n",
       "    }\n",
       "</style>\n",
       "<table border=\"1\" class=\"dataframe\">\n",
       "  <thead>\n",
       "    <tr style=\"text-align: right;\">\n",
       "      <th></th>\n",
       "      <th>Flow ID</th>\n",
       "      <th>Src IP</th>\n",
       "      <th>Src Port</th>\n",
       "      <th>Dst IP</th>\n",
       "      <th>Dst Port</th>\n",
       "      <th>Protocol</th>\n",
       "      <th>Timestamp</th>\n",
       "      <th>Flow Duration</th>\n",
       "      <th>Total Fwd Packet</th>\n",
       "      <th>Total Bwd packets</th>\n",
       "      <th>...</th>\n",
       "      <th>Active Mean</th>\n",
       "      <th>Active Std</th>\n",
       "      <th>Active Max</th>\n",
       "      <th>Active Min</th>\n",
       "      <th>Idle Mean</th>\n",
       "      <th>Idle Std</th>\n",
       "      <th>Idle Max</th>\n",
       "      <th>Idle Min</th>\n",
       "      <th>Label</th>\n",
       "      <th>Label.1</th>\n",
       "    </tr>\n",
       "  </thead>\n",
       "  <tbody>\n",
       "    <tr>\n",
       "      <th>0</th>\n",
       "      <td>10.152.152.11-216.58.220.99-57158-443-6</td>\n",
       "      <td>10.152.152.11</td>\n",
       "      <td>57158</td>\n",
       "      <td>216.58.220.99</td>\n",
       "      <td>443</td>\n",
       "      <td>6</td>\n",
       "      <td>24/07/2015 04:09:48 PM</td>\n",
       "      <td>229</td>\n",
       "      <td>1</td>\n",
       "      <td>1</td>\n",
       "      <td>...</td>\n",
       "      <td>0</td>\n",
       "      <td>0</td>\n",
       "      <td>0</td>\n",
       "      <td>0</td>\n",
       "      <td>0.000000e+00</td>\n",
       "      <td>0.000000e+00</td>\n",
       "      <td>0.000000e+00</td>\n",
       "      <td>0.000000e+00</td>\n",
       "      <td>Non-Tor</td>\n",
       "      <td>AUDIO-STREAMING</td>\n",
       "    </tr>\n",
       "    <tr>\n",
       "      <th>1</th>\n",
       "      <td>10.152.152.11-216.58.220.99-57159-443-6</td>\n",
       "      <td>10.152.152.11</td>\n",
       "      <td>57159</td>\n",
       "      <td>216.58.220.99</td>\n",
       "      <td>443</td>\n",
       "      <td>6</td>\n",
       "      <td>24/07/2015 04:09:48 PM</td>\n",
       "      <td>407</td>\n",
       "      <td>1</td>\n",
       "      <td>1</td>\n",
       "      <td>...</td>\n",
       "      <td>0</td>\n",
       "      <td>0</td>\n",
       "      <td>0</td>\n",
       "      <td>0</td>\n",
       "      <td>0.000000e+00</td>\n",
       "      <td>0.000000e+00</td>\n",
       "      <td>0.000000e+00</td>\n",
       "      <td>0.000000e+00</td>\n",
       "      <td>Non-Tor</td>\n",
       "      <td>AUDIO-STREAMING</td>\n",
       "    </tr>\n",
       "    <tr>\n",
       "      <th>2</th>\n",
       "      <td>10.152.152.11-216.58.220.99-57160-443-6</td>\n",
       "      <td>10.152.152.11</td>\n",
       "      <td>57160</td>\n",
       "      <td>216.58.220.99</td>\n",
       "      <td>443</td>\n",
       "      <td>6</td>\n",
       "      <td>24/07/2015 04:09:48 PM</td>\n",
       "      <td>431</td>\n",
       "      <td>1</td>\n",
       "      <td>1</td>\n",
       "      <td>...</td>\n",
       "      <td>0</td>\n",
       "      <td>0</td>\n",
       "      <td>0</td>\n",
       "      <td>0</td>\n",
       "      <td>0.000000e+00</td>\n",
       "      <td>0.000000e+00</td>\n",
       "      <td>0.000000e+00</td>\n",
       "      <td>0.000000e+00</td>\n",
       "      <td>Non-Tor</td>\n",
       "      <td>AUDIO-STREAMING</td>\n",
       "    </tr>\n",
       "    <tr>\n",
       "      <th>3</th>\n",
       "      <td>10.152.152.11-74.125.136.120-49134-443-6</td>\n",
       "      <td>10.152.152.11</td>\n",
       "      <td>49134</td>\n",
       "      <td>74.125.136.120</td>\n",
       "      <td>443</td>\n",
       "      <td>6</td>\n",
       "      <td>24/07/2015 04:09:48 PM</td>\n",
       "      <td>359</td>\n",
       "      <td>1</td>\n",
       "      <td>1</td>\n",
       "      <td>...</td>\n",
       "      <td>0</td>\n",
       "      <td>0</td>\n",
       "      <td>0</td>\n",
       "      <td>0</td>\n",
       "      <td>0.000000e+00</td>\n",
       "      <td>0.000000e+00</td>\n",
       "      <td>0.000000e+00</td>\n",
       "      <td>0.000000e+00</td>\n",
       "      <td>Non-Tor</td>\n",
       "      <td>AUDIO-STREAMING</td>\n",
       "    </tr>\n",
       "    <tr>\n",
       "      <th>4</th>\n",
       "      <td>10.152.152.11-173.194.65.127-34697-19305-6</td>\n",
       "      <td>10.152.152.11</td>\n",
       "      <td>34697</td>\n",
       "      <td>173.194.65.127</td>\n",
       "      <td>19305</td>\n",
       "      <td>6</td>\n",
       "      <td>24/07/2015 04:09:45 PM</td>\n",
       "      <td>10778451</td>\n",
       "      <td>591</td>\n",
       "      <td>400</td>\n",
       "      <td>...</td>\n",
       "      <td>0</td>\n",
       "      <td>0</td>\n",
       "      <td>0</td>\n",
       "      <td>0</td>\n",
       "      <td>1.437765e+15</td>\n",
       "      <td>3.117718e+06</td>\n",
       "      <td>1.437765e+15</td>\n",
       "      <td>1.437765e+15</td>\n",
       "      <td>Non-Tor</td>\n",
       "      <td>AUDIO-STREAMING</td>\n",
       "    </tr>\n",
       "  </tbody>\n",
       "</table>\n",
       "<p>5 rows × 85 columns</p>\n",
       "</div>"
      ],
      "text/plain": [
       "                                      Flow ID         Src IP  Src Port  \\\n",
       "0     10.152.152.11-216.58.220.99-57158-443-6  10.152.152.11     57158   \n",
       "1     10.152.152.11-216.58.220.99-57159-443-6  10.152.152.11     57159   \n",
       "2     10.152.152.11-216.58.220.99-57160-443-6  10.152.152.11     57160   \n",
       "3    10.152.152.11-74.125.136.120-49134-443-6  10.152.152.11     49134   \n",
       "4  10.152.152.11-173.194.65.127-34697-19305-6  10.152.152.11     34697   \n",
       "\n",
       "           Dst IP  Dst Port  Protocol               Timestamp  Flow Duration  \\\n",
       "0   216.58.220.99       443         6  24/07/2015 04:09:48 PM            229   \n",
       "1   216.58.220.99       443         6  24/07/2015 04:09:48 PM            407   \n",
       "2   216.58.220.99       443         6  24/07/2015 04:09:48 PM            431   \n",
       "3  74.125.136.120       443         6  24/07/2015 04:09:48 PM            359   \n",
       "4  173.194.65.127     19305         6  24/07/2015 04:09:45 PM       10778451   \n",
       "\n",
       "   Total Fwd Packet  Total Bwd packets  ...  Active Mean  Active Std  \\\n",
       "0                 1                  1  ...            0           0   \n",
       "1                 1                  1  ...            0           0   \n",
       "2                 1                  1  ...            0           0   \n",
       "3                 1                  1  ...            0           0   \n",
       "4               591                400  ...            0           0   \n",
       "\n",
       "   Active Max  Active Min     Idle Mean      Idle Std      Idle Max  \\\n",
       "0           0           0  0.000000e+00  0.000000e+00  0.000000e+00   \n",
       "1           0           0  0.000000e+00  0.000000e+00  0.000000e+00   \n",
       "2           0           0  0.000000e+00  0.000000e+00  0.000000e+00   \n",
       "3           0           0  0.000000e+00  0.000000e+00  0.000000e+00   \n",
       "4           0           0  1.437765e+15  3.117718e+06  1.437765e+15   \n",
       "\n",
       "       Idle Min    Label          Label.1  \n",
       "0  0.000000e+00  Non-Tor  AUDIO-STREAMING  \n",
       "1  0.000000e+00  Non-Tor  AUDIO-STREAMING  \n",
       "2  0.000000e+00  Non-Tor  AUDIO-STREAMING  \n",
       "3  0.000000e+00  Non-Tor  AUDIO-STREAMING  \n",
       "4  1.437765e+15  Non-Tor  AUDIO-STREAMING  \n",
       "\n",
       "[5 rows x 85 columns]"
      ]
     },
     "execution_count": 2,
     "metadata": {},
     "output_type": "execute_result"
    }
   ],
   "source": [
    "# Load data\n",
    "fp = \"..//data/Darknet.CSV\"\n",
    "data = pd.read_csv(fp,on_bad_lines='skip')\n",
    "\n",
    "# Data size\n",
    "print(f\"Data size : {data.shape[0]} data points, {data.shape[1]} columns\")\n",
    "\n",
    "# Show the first 5 data points\n",
    "data.head()"
   ]
  },
  {
   "cell_type": "markdown",
   "id": "663d8e1b",
   "metadata": {},
   "source": [
    "Data-set: [CIC-Darknet2020 Internet Traffic](https://www.kaggle.com/datasets/peterfriedrich1/cicdarknet2020-internet-traffic/data)\n",
    "\n",
    "The data-set contains 141530 data points with 83 features and 2 labels. The labels describe the source of the traffic (`Label`) and the type of activity of traffic (`Label.1`). The descriptions for some of the features are the following:\n",
    "\n",
    "* `Src IP`: IP address of the traffic source\n",
    "* `Src Port`: Source Port\n",
    "* `Dst IP`: IP address of the traffic destination\n",
    "* `Dst Port`: Destination port\n",
    "* `Protocol`: Internet Protocol\n",
    "* `Timestamp`: Traffic timestamp\n",
    "* `Flow Duration`: Time elapsed\n",
    "* `Total Fwd Packet`: Number of packets"
   ]
  },
  {
   "cell_type": "markdown",
   "id": "a7c5bdd5",
   "metadata": {},
   "source": [
    "### Data Cleaning and Exploratory Data Analysis"
   ]
  },
  {
   "cell_type": "code",
   "execution_count": 3,
   "id": "00b9ed42",
   "metadata": {},
   "outputs": [
    {
     "name": "stdout",
     "output_type": "stream",
     "text": [
      "Flow Bytes/s    47\n",
      "dtype: int64\n"
     ]
    }
   ],
   "source": [
    "# Check for missing values\n",
    "missing_val = data.isna().sum()\n",
    "print(missing_val[missing_val > 0])"
   ]
  },
  {
   "cell_type": "code",
   "execution_count": 4,
   "id": "b4794c08",
   "metadata": {},
   "outputs": [
    {
     "name": "stdout",
     "output_type": "stream",
     "text": [
      "Data size : 141483 data points, 85 columns\n"
     ]
    }
   ],
   "source": [
    "data = data.dropna()\n",
    "\n",
    "# Check that null values were dropped\n",
    "print(f\"Data size : {data.shape[0]} data points, {data.shape[1]} columns\")"
   ]
  },
  {
   "cell_type": "code",
   "execution_count": 5,
   "id": "d501eaa3",
   "metadata": {},
   "outputs": [
    {
     "data": {
      "text/plain": [
       "Index(['Flow ID', 'Src IP', 'Src Port', 'Dst IP', 'Dst Port', 'Protocol',\n",
       "       'Timestamp', 'Flow Duration', 'Total Fwd Packet', 'Total Bwd packets',\n",
       "       'Total Length of Fwd Packet', 'Total Length of Bwd Packet',\n",
       "       'Fwd Packet Length Max', 'Fwd Packet Length Min',\n",
       "       'Fwd Packet Length Mean', 'Fwd Packet Length Std',\n",
       "       'Bwd Packet Length Max', 'Bwd Packet Length Min',\n",
       "       'Bwd Packet Length Mean', 'Bwd Packet Length Std', 'Flow Bytes/s',\n",
       "       'Flow Packets/s', 'Flow IAT Mean', 'Flow IAT Std', 'Flow IAT Max',\n",
       "       'Flow IAT Min', 'Fwd IAT Total', 'Fwd IAT Mean', 'Fwd IAT Std',\n",
       "       'Fwd IAT Max', 'Fwd IAT Min', 'Bwd IAT Total', 'Bwd IAT Mean',\n",
       "       'Bwd IAT Std', 'Bwd IAT Max', 'Bwd IAT Min', 'Fwd PSH Flags',\n",
       "       'Bwd PSH Flags', 'Fwd URG Flags', 'Bwd URG Flags', 'Fwd Header Length',\n",
       "       'Bwd Header Length', 'Fwd Packets/s', 'Bwd Packets/s',\n",
       "       'Packet Length Min', 'Packet Length Max', 'Packet Length Mean',\n",
       "       'Packet Length Std', 'Packet Length Variance', 'FIN Flag Count',\n",
       "       'SYN Flag Count', 'RST Flag Count', 'PSH Flag Count', 'ACK Flag Count',\n",
       "       'URG Flag Count', 'CWE Flag Count', 'ECE Flag Count', 'Down/Up Ratio',\n",
       "       'Average Packet Size', 'Fwd Segment Size Avg', 'Bwd Segment Size Avg',\n",
       "       'Fwd Bytes/Bulk Avg', 'Fwd Packet/Bulk Avg', 'Fwd Bulk Rate Avg',\n",
       "       'Bwd Bytes/Bulk Avg', 'Bwd Packet/Bulk Avg', 'Bwd Bulk Rate Avg',\n",
       "       'Subflow Fwd Packets', 'Subflow Fwd Bytes', 'Subflow Bwd Packets',\n",
       "       'Subflow Bwd Bytes', 'FWD Init Win Bytes', 'Bwd Init Win Bytes',\n",
       "       'Fwd Act Data Pkts', 'Fwd Seg Size Min', 'Active Mean', 'Active Std',\n",
       "       'Active Max', 'Active Min', 'Idle Mean', 'Idle Std', 'Idle Max',\n",
       "       'Idle Min', 'Label', 'Label.1'],\n",
       "      dtype='object')"
      ]
     },
     "execution_count": 5,
     "metadata": {},
     "output_type": "execute_result"
    }
   ],
   "source": [
    "# Inspect features\n",
    "data.columns"
   ]
  },
  {
   "cell_type": "markdown",
   "id": "c9fdab58",
   "metadata": {},
   "source": [
    "#### Traffic protocol type"
   ]
  },
  {
   "cell_type": "code",
   "execution_count": 6,
   "id": "19e52379",
   "metadata": {},
   "outputs": [
    {
     "data": {
      "text/plain": [
       "(array([ 0,  6, 17], dtype=int64), array([  799, 84274, 56410], dtype=int64))"
      ]
     },
     "execution_count": 6,
     "metadata": {},
     "output_type": "execute_result"
    }
   ],
   "source": [
    "# Type of protocol\n",
    "protocols = data[\"Protocol\"]\n",
    "np.unique(protocols, return_counts=True)"
   ]
  },
  {
   "cell_type": "markdown",
   "id": "5f28ecca",
   "metadata": {},
   "source": [
    "The data consists of traffic routed through 3 different protocols. For the purposes of implementing the models, we can keep the numerical value assignments. For informational and data exploration purposes, the protocol assignments are:\n",
    "\n",
    "* `0`: **HOPOPT** - IPv6 Hop-by-Hop Option\n",
    "* `6`: **TCP** - Transmission Control Protocol\n",
    "* `17`: **UDP** - User Datagram Protocol\n",
    "\n",
    "TCP and UDP are the most commonly used network protocols, and most of the traffic in this data are routed through them."
   ]
  },
  {
   "cell_type": "code",
   "execution_count": 7,
   "id": "d041265d",
   "metadata": {},
   "outputs": [
    {
     "data": {
      "image/png": "[encoded data removed]",
      "text/plain": [
       "<Figure size 720x720 with 1 Axes>"
      ]
     },
     "metadata": {},
     "output_type": "display_data"
    }
   ],
   "source": [
    "proto_map = {0: \"HOPOPT\",\n",
    "             6: \"TCP\",\n",
    "             17: \"UDP\"}\n",
    "\n",
    "proto_names = [proto_map[i] for i in protocols]\n",
    "proto_counts = pd.Series(proto_names).value_counts()\n",
    "\n",
    "plt.figure(figsize=(10,10))\n",
    "plt.pie(proto_counts, labels=proto_counts.index, autopct=\"%1.2f%%\")\n",
    "plt.title(\"Distribution of Protocol Types\")\n",
    "plt.show()"
   ]
  },
  {
   "cell_type": "markdown",
   "id": "7098acd5",
   "metadata": {},
   "source": [
    "#### Traffic source and activity type"
   ]
  },
  {
   "cell_type": "code",
   "execution_count": 8,
   "id": "5e347c96",
   "metadata": {},
   "outputs": [],
   "source": [
    "# Traffic source and activity\n",
    "traffic_source = data[\"Label\"]\n",
    "traffic_activity = data[\"Label.1\"]"
   ]
  },
  {
   "cell_type": "code",
   "execution_count": 9,
   "id": "3d817224",
   "metadata": {},
   "outputs": [
    {
     "data": {
      "text/plain": [
       "array(['Non-Tor', 'NonVPN', 'Tor', 'VPN'], dtype=object)"
      ]
     },
     "execution_count": 9,
     "metadata": {},
     "output_type": "execute_result"
    }
   ],
   "source": [
    "np.unique(traffic_source)"
   ]
  },
  {
   "cell_type": "code",
   "execution_count": 10,
   "id": "0c9ea83d",
   "metadata": {},
   "outputs": [
    {
     "data": {
      "text/plain": [
       "array(['AUDIO-STREAMING', 'Audio-Streaming', 'Browsing', 'Chat', 'Email',\n",
       "       'File-Transfer', 'File-transfer', 'P2P', 'VOIP', 'Video-Streaming',\n",
       "       'Video-streaming'], dtype=object)"
      ]
     },
     "execution_count": 10,
     "metadata": {},
     "output_type": "execute_result"
    }
   ],
   "source": [
    "np.unique(traffic_activity)"
   ]
  },
  {
   "cell_type": "code",
   "execution_count": 11,
   "id": "c0046d65",
   "metadata": {},
   "outputs": [
    {
     "data": {
      "image/png": "[encoded data removed]",
      "text/plain": [
       "<Figure size 576x576 with 1 Axes>"
      ]
     },
     "metadata": {
      "needs_background": "light"
     },
     "output_type": "display_data"
    }
   ],
   "source": [
    "# Traffic source counts\n",
    "plt.figure(figsize=(8, 8))\n",
    "sns.countplot(y=traffic_source, data=traffic_source)\n",
    "plt.show()"
   ]
  },
  {
   "cell_type": "code",
   "execution_count": 12,
   "id": "c51d0455",
   "metadata": {},
   "outputs": [
    {
     "data": {
      "image/png": "[encoded data removed]",
      "text/plain": [
       "<Figure size 576x576 with 1 Axes>"
      ]
     },
     "metadata": {
      "needs_background": "light"
     },
     "output_type": "display_data"
    }
   ],
   "source": [
    "# Traffic activity counts\n",
    "plt.figure(figsize=(8, 8))\n",
    "sns.countplot(y=traffic_activity, data=traffic_activity)\n",
    "plt.show()"
   ]
  },
  {
   "cell_type": "markdown",
   "id": "09fd328f",
   "metadata": {},
   "source": [
    "The sources of network traffic belong to four different categories:\n",
    "\n",
    "* `Non-Tor`\n",
    "* `NonVPN`\n",
    "* `Tor`\n",
    "* `VPN`\n",
    "\n",
    "The `Tor` category refers to traffic that was routed through the [Tor](https://en.wikipedia.org/wiki/Tor_(network)) overlay network, which is used for anonymous communication. This is often referred to as a \"dark-net\", hence the data set name. The `VPN` category refers to traffic that is encrypted using a VPN (virtual private network) service, which masks IP and location. Traffic that are in the `Tor` and `VPN` categories are not inherently malicious, however, illegal activities can be associated with them due to their anonynimity and IP concealing capabilities.\n",
    "\n",
    "The types of activity consists of internet browsing, data/content transfer/sharing, emails, and online chats. For the purposes of this project, we are interested in building a model to differentiate anonymous/private vs non-anonymous/non-private network traffic. For this reason, we will use the `Label` (traffic source) column and drop the `Label.1` (activity type) column."
   ]
  },
  {
   "cell_type": "code",
   "execution_count": 13,
   "id": "7656802f",
   "metadata": {},
   "outputs": [],
   "source": [
    "# Drop Label.1\n",
    "data = data.drop(columns=\"Label.1\")"
   ]
  },
  {
   "cell_type": "markdown",
   "id": "58534c20",
   "metadata": {},
   "source": [
    "### Feature Engineering"
   ]
  },
  {
   "cell_type": "markdown",
   "id": "9d167b20",
   "metadata": {},
   "source": [
    "#### Combine Tor/VPN and Non-Tor/Non-VPN\n",
    "To simplify our task, we will consider `Tor`/`VPN` and `Non-Tor`/`Non-VPN` traffic as the same categories. The new labels will be the following:\n",
    "* `Tor`/`VPN` > `1` (anonymous)\n",
    "* `Non-Tor`/`Non-VPN` > `0` (non-anonymous) "
   ]
  },
  {
   "cell_type": "code",
   "execution_count": 14,
   "id": "f7f8bc9e",
   "metadata": {},
   "outputs": [],
   "source": [
    "# Combine Tor/VPN\n",
    "\n",
    "label_mapping = {\"Tor\": 1,\n",
    "                 \"VPN\": 1, \n",
    "                 \"Non-Tor\": 0,\n",
    "                 \"NonVPN\": 0}\n",
    "\n",
    "data[\"Label\"] = data[\"Label\"].map(label_mapping)"
   ]
  },
  {
   "cell_type": "markdown",
   "id": "d8e5a7b2",
   "metadata": {},
   "source": [
    "#### Remove irrelevant features\n",
    "Some features such as source/destination IP addresses and timestamps do not provide relevant information on predicting the type of traffic (anonymous vs. non-anonymous). These features are highly specific to individual instances and can be difficult for our model to generalize. We will drop these columns from the data-set."
   ]
  },
  {
   "cell_type": "code",
   "execution_count": 15,
   "id": "b49e64cc",
   "metadata": {},
   "outputs": [],
   "source": [
    "# Drop irrelevant features\n",
    "irrelevant_features = [\"Src Port\", \"Dst Port\", \"Timestamp\", \"Flow ID\", \"Src IP\", \"Dst IP\"]\n",
    "data = data.drop(columns=irrelevant_features)"
   ]
  },
  {
   "cell_type": "markdown",
   "id": "18b77183",
   "metadata": {},
   "source": [
    "#### One-hot encode features\n",
    "The `Protocol` feature is a categorical is a variable represented by integers. The different categories do not have an ordinal relationship, but it may be implied due to the integers. To avoid problems that may arise from this, we can one-hot encode the `Protocol` feature. Each category will be transformed into a column, with possible values of `1` and `0` (`1` for the corresponding category, `0` for the rest)."
   ]
  },
  {
   "cell_type": "code",
   "execution_count": 16,
   "id": "6efa4669",
   "metadata": {},
   "outputs": [],
   "source": [
    "# One-hot encode Protocol\n",
    "one_hot = pd.get_dummies(data, columns=[\"Protocol\"])\n",
    "data = one_hot.iloc[:len(data)]"
   ]
  },
  {
   "cell_type": "markdown",
   "id": "1409bfb5",
   "metadata": {},
   "source": [
    "### Evaluating feature correlation\n",
    "The data set contains 83 features, some of which may not be conducive to training an accurate model. Specifically, there may be features that are highly correlated, meaning multiple features can encode similar information. In a regression models, multi-collinearity (due to high correlation) can lead to unreliable predictions. While correlated features may not always impact the model's accuracy (depending on the type of model), we want to make sure our model is computationally efficient, not overly complex, and can generalize to new data.\n",
    "\n",
    "We can look at feature correlation using a heatmap of every feature. To determine which features to remove, we can define a correlation threshold (usually defined 0.8-0.9) and remove feature with correlation above it."
   ]
  },
  {
   "cell_type": "code",
   "execution_count": 17,
   "id": "6dbcaf29",
   "metadata": {},
   "outputs": [
    {
     "data": {
      "image/png": "[encoded data removed]",
      "text/plain": [
       "<Figure size 1080x1080 with 2 Axes>"
      ]
     },
     "metadata": {
      "needs_background": "light"
     },
     "output_type": "display_data"
    }
   ],
   "source": [
    "plt.figure(figsize=(15,15))\n",
    "sns.heatmap(data.corr())\n",
    "plt.show()"
   ]
  },
  {
   "cell_type": "code",
   "execution_count": 18,
   "id": "37ce5a8d",
   "metadata": {},
   "outputs": [
    {
     "name": "stdout",
     "output_type": "stream",
     "text": [
      "['Fwd IAT Total', 'Fwd IAT Max', 'Fwd IAT Min', 'Bwd IAT Total', 'Fwd Header Length', 'Bwd Header Length', 'Fwd Packets/s', 'ACK Flag Count', 'Average Packet Size', 'Fwd Segment Size Avg', 'Bwd Segment Size Avg', 'Subflow Fwd Bytes', 'Subflow Bwd Bytes', 'Idle Max', 'Protocol_6', 'Protocol_17']\n"
     ]
    }
   ],
   "source": [
    "threshold = 0.9\n",
    "corr_matrix = data.corr().abs()\n",
    "upper_tri = corr_matrix.where(np.triu(np.ones(corr_matrix.shape), k=1).astype(bool))\n",
    "\n",
    "# Features to be dropped\n",
    "dropped_features = [feature for feature in upper_tri.columns if any(upper_tri[feature] > threshold)]\n",
    "print(dropped_features)"
   ]
  },
  {
   "cell_type": "code",
   "execution_count": 19,
   "id": "72adc753",
   "metadata": {},
   "outputs": [],
   "source": [
    "# Drop highly correlated features\n",
    "data = data.drop(columns=dropped_features)"
   ]
  },
  {
   "cell_type": "markdown",
   "id": "ba17c641",
   "metadata": {},
   "source": [
    "### Data Preparation"
   ]
  },
  {
   "cell_type": "code",
   "execution_count": 20,
   "id": "3738f003",
   "metadata": {},
   "outputs": [],
   "source": [
    "# Split data into train and test sets\n",
    "X = data.drop(columns=[\"Label\"])\n",
    "y = data[\"Label\"]\n",
    "\n",
    "# Replace inf and -inf values with max/min float values\n",
    "X[X == np.inf] = np.finfo(np.float32).max\n",
    "X[X == -np.inf] = np.finfo(np.float32).min\n",
    "\n",
    "X_train, X_test, y_train, y_test = train_test_split(X, y, test_size=0.2, random_state=42)"
   ]
  },
  {
   "cell_type": "markdown",
   "id": "3880dceb",
   "metadata": {},
   "source": [
    "### Model Selection"
   ]
  },
  {
   "cell_type": "markdown",
   "id": "510c73e1",
   "metadata": {},
   "source": [
    "#### Logistic Regression"
   ]
  },
  {
   "cell_type": "code",
   "execution_count": 21,
   "id": "23c4e7d2",
   "metadata": {
    "scrolled": false
   },
   "outputs": [],
   "source": [
    "from sklearn.linear_model import LogisticRegression\n",
    "\n",
    "log_reg = LogisticRegression(solver=\"lbfgs\", max_iter=1000, class_weight=\"balanced\").fit(X_train, y_train)\n",
    "\n",
    "log_reg_pred = log_reg.predict(X_test)"
   ]
  },
  {
   "cell_type": "code",
   "execution_count": 22,
   "id": "21274a36",
   "metadata": {},
   "outputs": [
    {
     "name": "stdout",
     "output_type": "stream",
     "text": [
      "Logistic regression accuracy: 0.8279676290772874\n"
     ]
    }
   ],
   "source": [
    "# Accuracy\n",
    "print(f\"Logistic regression accuracy: {accuracy_score(y_test, log_reg_pred)}\")"
   ]
  },
  {
   "cell_type": "markdown",
   "id": "f633689c",
   "metadata": {},
   "source": [
    "#### Decision Tree"
   ]
  },
  {
   "cell_type": "code",
   "execution_count": 23,
   "id": "680f95c5",
   "metadata": {},
   "outputs": [],
   "source": [
    "from sklearn.tree import DecisionTreeClassifier\n",
    "\n",
    "dtree = DecisionTreeClassifier(max_depth=3, random_state=42).fit(X_train, y_train)\n",
    "\n",
    "dtree_pred = dtree.predict(X_test)"
   ]
  },
  {
   "cell_type": "code",
   "execution_count": 24,
   "id": "7b1b8fb7",
   "metadata": {},
   "outputs": [
    {
     "name": "stdout",
     "output_type": "stream",
     "text": [
      "Decision tree accuracy: 0.9450118387108174\n"
     ]
    }
   ],
   "source": [
    "# Accuracy\n",
    "print(f\"Decision tree accuracy: {accuracy_score(y_test, dtree_pred)}\")"
   ]
  },
  {
   "cell_type": "markdown",
   "id": "3271d025",
   "metadata": {},
   "source": [
    "#### k-Nearest Neighbors"
   ]
  },
  {
   "cell_type": "code",
   "execution_count": 25,
   "id": "081acc48",
   "metadata": {},
   "outputs": [],
   "source": [
    "from sklearn.neighbors import KNeighborsClassifier\n",
    "\n",
    "knn = KNeighborsClassifier(n_neighbors=3).fit(X_train, y_train)\n",
    "\n",
    "knn_pred = knn.predict(X_test)"
   ]
  },
  {
   "cell_type": "code",
   "execution_count": 26,
   "id": "8993265e",
   "metadata": {},
   "outputs": [
    {
     "name": "stdout",
     "output_type": "stream",
     "text": [
      "k-NN accuracy: 0.9627168957840053\n"
     ]
    }
   ],
   "source": [
    "# Accuracy\n",
    "print(f\"k-NN accuracy: {accuracy_score(y_test, knn_pred)}\")"
   ]
  },
  {
   "cell_type": "markdown",
   "id": "804ba615",
   "metadata": {},
   "source": [
    "#### Support Vector Machine"
   ]
  },
  {
   "cell_type": "code",
   "execution_count": 27,
   "id": "b92e7b3e",
   "metadata": {},
   "outputs": [],
   "source": [
    "from sklearn.svm import SVC\n",
    "\n",
    "svm = SVC(kernel=\"rbf\", C=1, gamma=1).fit(X_train, y_train)\n",
    "\n",
    "svm_pred = svm.predict(X_test)"
   ]
  },
  {
   "cell_type": "code",
   "execution_count": 28,
   "id": "3c8a9ec7",
   "metadata": {},
   "outputs": [
    {
     "name": "stdout",
     "output_type": "stream",
     "text": [
      "SVM accuracy: 0.8791391313566809\n"
     ]
    }
   ],
   "source": [
    "# Accuracy\n",
    "print(f\"SVM accuracy: {accuracy_score(y_test, svm_pred)}\")"
   ]
  },
  {
   "cell_type": "markdown",
   "id": "13248db7",
   "metadata": {},
   "source": [
    "#### Support Vector Machine on data sub-set\n",
    "Training a support vector machine on the full data-set is computationally expensive. To incorporate hyperparameter tuning for searching for the best parameters, we relax the problem by training on a small sub-set of the data. We will attempt to perform grid-search using 5000 examples."
   ]
  },
  {
   "cell_type": "code",
   "execution_count": 29,
   "id": "c9da14be",
   "metadata": {},
   "outputs": [],
   "source": [
    "# Hyperparameter tuning via GridSearch\n",
    "from sklearn.model_selection import GridSearchCV\n",
    "\n",
    "def run_grid_search():\n",
    "    idx = range(0, 5000)\n",
    "\n",
    "    X_sub = X_train.iloc[idx]\n",
    "    y_sub = y_train[0:5000]\n",
    "\n",
    "    grid_params = {\"C\": [0.1, 1, 10],\n",
    "                   \"gamma\": [0.1, 1, 10],\n",
    "                   \"kernel\": [\"rbf\", \"linear\", \"sigmoid\"]}\n",
    "\n",
    "    grid_search = GridSearchCV(SVC(), grid_params, cv=5).fit(X_sub, y_sub)\n",
    "    print(\"Best parameters:\", grid_search.best_params)"
   ]
  },
  {
   "cell_type": "code",
   "execution_count": 30,
   "id": "7b90698a",
   "metadata": {},
   "outputs": [
    {
     "name": "stdout",
     "output_type": "stream",
     "text": [
      "Exceeded time limit.\n"
     ]
    }
   ],
   "source": [
    "# Timeout if code runs more than 30 minutes\n",
    "import threading\n",
    "limit = 1800\n",
    "\n",
    "thread = threading.Thread(target=run_grid_search)\n",
    "thread.start()\n",
    "thread.join(timeout=limit)\n",
    "\n",
    "if thread.is_alive():\n",
    "    print(\"Exceeded time limit.\")\n",
    "else:\n",
    "    print(\"Grid search completed.\")"
   ]
  },
  {
   "cell_type": "markdown",
   "id": "b2b9c3a2",
   "metadata": {},
   "source": [
    "Even after reducing the data-set to 5000 examples, the GridSearch times out."
   ]
  },
  {
   "cell_type": "markdown",
   "id": "39eed6b8",
   "metadata": {},
   "source": [
    "### Ensemble Methods"
   ]
  },
  {
   "cell_type": "markdown",
   "id": "c5281456",
   "metadata": {},
   "source": [
    "#### AdaBoost"
   ]
  },
  {
   "cell_type": "code",
   "execution_count": 31,
   "id": "25b4c5dd",
   "metadata": {},
   "outputs": [],
   "source": [
    "# Adaboost\n",
    "from sklearn.ensemble import AdaBoostClassifier\n",
    "from sklearn.model_selection import KFold, cross_val_score\n",
    "\n",
    "adaboost = AdaBoostClassifier(n_estimators=10, random_state=42)"
   ]
  },
  {
   "cell_type": "code",
   "execution_count": 32,
   "id": "774bcc0a",
   "metadata": {},
   "outputs": [
    {
     "name": "stdout",
     "output_type": "stream",
     "text": [
      "AdaBoost accuracy: 0.9274380248453757\n"
     ]
    }
   ],
   "source": [
    "# Adaboost cross-validation\n",
    "adaboost_cross_val = cross_val_score(adaboost, X_train, y_train, cv=5)\n",
    "\n",
    "print(f\"AdaBoost accuracy: {np.mean(adaboost_cross_val)}\")"
   ]
  },
  {
   "cell_type": "markdown",
   "id": "5de80eac",
   "metadata": {},
   "source": [
    "#### XGBoost"
   ]
  },
  {
   "cell_type": "code",
   "execution_count": 33,
   "id": "b8cdb5b7",
   "metadata": {},
   "outputs": [
    {
     "name": "stdout",
     "output_type": "stream",
     "text": [
      "XGBoost accuracy: 0.985334134360533\n"
     ]
    }
   ],
   "source": [
    "# XGBoost\n",
    "import xgboost as xgb\n",
    "\n",
    "xgb_model = xgb.XGBClassifier(eval_metric=\"mlogloss\").fit(X_train, y_train)\n",
    "xgb_pred = xgb_model.predict(X_test)\n",
    "\n",
    "print(f\"XGBoost accuracy: {accuracy_score(y_test, xgb_pred)}\")"
   ]
  },
  {
   "cell_type": "markdown",
   "id": "29418370",
   "metadata": {},
   "source": [
    "### Results and Analysis\n",
    "Among the different models trained, `k-Nearest Neighbors`, `Decision Tree`, and `XGBoost` performed the best on unseen examples, with accuracy scores of `94.5%` and `96.3%`, and `98.5%`, respectively. The classification reports for the models are:"
   ]
  },
  {
   "cell_type": "markdown",
   "id": "161795c7",
   "metadata": {},
   "source": [
    "`k-Nearest Neighbors`:"
   ]
  },
  {
   "cell_type": "code",
   "execution_count": 34,
   "id": "73afd152",
   "metadata": {},
   "outputs": [
    {
     "name": "stdout",
     "output_type": "stream",
     "text": [
      "              precision    recall  f1-score   support\n",
      "\n",
      "           0       0.97      0.98      0.98     23429\n",
      "           1       0.92      0.86      0.89      4868\n",
      "\n",
      "    accuracy                           0.96     28297\n",
      "   macro avg       0.94      0.92      0.93     28297\n",
      "weighted avg       0.96      0.96      0.96     28297\n",
      "\n"
     ]
    }
   ],
   "source": [
    "print(classification_report(y_test, knn_pred))"
   ]
  },
  {
   "cell_type": "markdown",
   "id": "5e3ef8a0",
   "metadata": {},
   "source": [
    "`Decision Tree`:"
   ]
  },
  {
   "cell_type": "code",
   "execution_count": 35,
   "id": "c8a237f8",
   "metadata": {},
   "outputs": [
    {
     "name": "stdout",
     "output_type": "stream",
     "text": [
      "              precision    recall  f1-score   support\n",
      "\n",
      "           0       0.95      0.99      0.97     23429\n",
      "           1       0.92      0.75      0.82      4868\n",
      "\n",
      "    accuracy                           0.95     28297\n",
      "   macro avg       0.93      0.87      0.90     28297\n",
      "weighted avg       0.94      0.95      0.94     28297\n",
      "\n"
     ]
    }
   ],
   "source": [
    "print(classification_report(y_test, dtree_pred))"
   ]
  },
  {
   "cell_type": "markdown",
   "id": "01adbba3",
   "metadata": {},
   "source": [
    "`XGBoost`:"
   ]
  },
  {
   "cell_type": "code",
   "execution_count": 36,
   "id": "6213f939",
   "metadata": {},
   "outputs": [
    {
     "name": "stdout",
     "output_type": "stream",
     "text": [
      "              precision    recall  f1-score   support\n",
      "\n",
      "           0       0.99      0.99      0.99     23429\n",
      "           1       0.97      0.95      0.96      4868\n",
      "\n",
      "    accuracy                           0.99     28297\n",
      "   macro avg       0.98      0.97      0.97     28297\n",
      "weighted avg       0.99      0.99      0.99     28297\n",
      "\n"
     ]
    }
   ],
   "source": [
    "print(classification_report(y_test, xgb_pred))"
   ]
  },
  {
   "cell_type": "markdown",
   "id": "dce96890",
   "metadata": {},
   "source": [
    "These models all exhibited high `precision` for both the `0` and `1` labels, meaning there were very few false positive predictions. The `Decision Tree` model suffered the most on `recall` for the `1` label, meaning it was somewhat susceptible to false negatives for this label. In every category (`accuracy`, `precision`, `recall`), the `XGBoost` model had the highest perfromance."
   ]
  },
  {
   "cell_type": "markdown",
   "id": "2e4bc174",
   "metadata": {},
   "source": [
    "`Logistic Regression` showed the lowest performance, and inspecting the classification report showed that while the accuracy was still relatively high at `82.8%`, the model was only predicting the `0` label. This behavior is likely due to label imbalance in the data-set, that is, there were significantly more examples with the `0` label. "
   ]
  },
  {
   "cell_type": "code",
   "execution_count": 37,
   "id": "5b5f8a40",
   "metadata": {},
   "outputs": [
    {
     "name": "stdout",
     "output_type": "stream",
     "text": [
      "              precision    recall  f1-score   support\n",
      "\n",
      "           0       0.83      1.00      0.91     23429\n",
      "           1       0.00      0.00      0.00      4868\n",
      "\n",
      "    accuracy                           0.83     28297\n",
      "   macro avg       0.41      0.50      0.45     28297\n",
      "weighted avg       0.69      0.83      0.75     28297\n",
      "\n"
     ]
    }
   ],
   "source": [
    "print(classification_report(y_test, log_reg_pred))"
   ]
  },
  {
   "cell_type": "markdown",
   "id": "f094d751",
   "metadata": {},
   "source": [
    "The `SVM` model predicted with `87.9%` accuracy without hyperparameter tuning. The model was training on `C=1`, meaning the decision boundary was very simple. I elected to not use hyperparameter tuning via `GridSearch` on the full data-set because it is computationally expensive and can take a long time to complete. This is due to the data-set containing a large number of examples (> 140,000) and many features, even after dropping highly correlated features."
   ]
  },
  {
   "cell_type": "markdown",
   "id": "e732444e",
   "metadata": {},
   "source": [
    "### Discussion and Conclusion"
   ]
  },
  {
   "cell_type": "markdown",
   "id": "c25e268d",
   "metadata": {},
   "source": [
    "Based on the accuracy scores of the various models, it appears that classifying anonymous/non-anonymous traffic is a relatively simple task, assuming proper algorithm selection and feature engineering. The problem may become more complex if I decided to retain the original labels (`Tor`, `Non-Tor`, `VPN`, `NonVPN`) and modeled a multi-class classification problem instead of a binary problem. From my perspective, differentiating between anonymity services (i.e. `Tor` vs. `VPN`) was not very meaningful because there can be many motivations (benign and malicious) for choosing between them. It can be difficult to determine whether traffic is malicious or not based on that choice. Differentiating between anonymous and non-anonymous traffic is a much simpler problem as it is a binary classification problem. From an internet safety perspective, traffic routed without using services such as Tor or VPNs are easier to track, meaning we can prioritize analytical resources towards traffic that our model predicts to be anonymized (and potentially malicious).\n",
    "\n",
    "A limitation I encountered was the computation required to train certain models, specifically, support vector machines. The other models training relatively quickly, while the SVM required significantly more time, even with a simple decision boundary (i.e. `C=1`). This made it difficult to utilize hyperparameter tuning using the full data-set, as the data-set contained a large number of features and data points. Even after selecting a sub-set of the data (5000 rows), `GridSearchCV` still exceeded the time limit I defined. While the grid-search may complete if given a higher time limit, it may not be very meaningful to train a more complex SVM because the other models already have very high performance with much less computational time.\n",
    "\n",
    "A potential way to improve the model is to train on data that indicates whether network traffic turned out to be malicious or benign. While it is useful to predict if traffic originated from a anonymized source, it does not necessarily provide information on its intent. Tor and VPNs are publicly available tools, and virtually anyone can use them for both benign and malicious purposes. Training models on malicious/benign labels in addition to Tor/VPN labels can provide better insights on the significance of anonymity and privacy tools on internet activity. Another way to improve the model is to consider other ensemble methods such as bagging and voting. Specifically, we can partition the data, train each sub-set separately on the same model, and take the average of the predictions (bagging). This can improve the final model's ability to generalize to new data. We can also implement voting, in which we train several different models and take the best averaged predictors from all the models. For the specific problem I chose, these extra steps may not be necessary due to high performance of my current models. However, they may offer meaningful improvements to models trained on more complex data and multi-label classification problems."
   ]
  }
 ],
 "metadata": {
  "kernelspec": {
   "display_name": "Python 3 (ipykernel)",
   "language": "python",
   "name": "python3"
  },
  "language_info": {
   "codemirror_mode": {
    "name": "ipython",
    "version": 3
   },
   "file_extension": ".py",
   "mimetype": "text/x-python",
   "name": "python",
   "nbconvert_exporter": "python",
   "pygments_lexer": "ipython3",
   "version": "3.9.12"
  }
 },
 "nbformat": 4,
 "nbformat_minor": 5
}
