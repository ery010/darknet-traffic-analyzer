{
 "cells": [
  {
   "cell_type": "code",
   "execution_count": 1,
   "id": "c74d8569",
   "metadata": {},
   "outputs": [],
   "source": [
    "import os\n",
    "import sys\n",
    "sys.path.append(os.path.abspath(os.path.join(os.getcwd(), '..')))\n",
    "\n",
    "from src import data_processing, model_voting\n",
    "\n",
    "from sklearn.tree import DecisionTreeClassifier\n",
    "from sklearn.neighbors import KNeighborsClassifier\n",
    "\n",
    "from sklearn.ensemble import VotingClassifier\n",
    "from sklearn.ensemble import AdaBoostClassifier\n",
    "import xgboost as xgb\n",
    "\n",
    "import warnings\n",
    "warnings.filterwarnings(\"ignore\")"
   ]
  },
  {
   "cell_type": "code",
   "execution_count": 2,
   "id": "81e9971f",
   "metadata": {},
   "outputs": [],
   "source": [
    "# Load data\n",
    "fp = \"..//data/Darknet.CSV\"\n",
    "data_processor = data_processing.DataProcessor(fp)\n",
    "\n",
    "# Preprocessing\n",
    "data_processor.preprocess()\n",
    "\n",
    "# Feature engineering\n",
    "label = \"Label\"\n",
    "dropped = [\"Src Port\", \"Dst Port\", \"Timestamp\", \"Flow ID\", \"Src IP\", \"Dst IP\", \"Label.1\"]\n",
    "label_map = {\"Tor\": 1,\n",
    "                 \"VPN\": 1, \n",
    "                 \"Non-Tor\": 0,\n",
    "                 \"NonVPN\": 0}\n",
    "one_hot_columns = [\"Protocol\"]\n",
    "\n",
    "data_processor.feature_engineering(label=label, \n",
    "                                   corr_threshold=0.9, \n",
    "                                   dropped=dropped, \n",
    "                                   label_map=label_map, \n",
    "                                   one_hot_columns=one_hot_columns)\n",
    "\n",
    "# Create train and test sets\n",
    "test_size = 0.2\n",
    "random_state = 42\n",
    "\n",
    "data_processor.create_train_test(test_size=test_size, random_state=random_state)\n",
    "\n",
    "X_train = data_processor.get_X_train()\n",
    "X_test = data_processor.get_X_test()\n",
    "y_train = data_processor.get_y_train()\n",
    "y_test = data_processor.get_y_test()"
   ]
  },
  {
   "cell_type": "code",
   "execution_count": 3,
   "id": "4895c948",
   "metadata": {},
   "outputs": [],
   "source": [
    "# Save data\n",
    "data_processor.save_data(\"darknet\", \"..//data/\")"
   ]
  },
  {
   "cell_type": "code",
   "execution_count": 4,
   "id": "a613502d",
   "metadata": {},
   "outputs": [],
   "source": [
    "# Select models\n",
    "models = [DecisionTreeClassifier(random_state=42),\n",
    "          KNeighborsClassifier(n_neighbors=3),\n",
    "          AdaBoostClassifier(n_estimators=10, random_state=42),\n",
    "          xgb.XGBClassifier(eval_metric=\"mlogloss\")]\n",
    "\n",
    "voting_ensemble = model_voting.VotingEnsemble(models)\n",
    "voting_ensemble.fit_voting_classifier(X_train, X_test, y_train, y_test, voting=\"hard\")"
   ]
  },
  {
   "cell_type": "code",
   "execution_count": 5,
   "id": "050fda2b",
   "metadata": {},
   "outputs": [
    {
     "data": {
      "text/plain": [
       "0.9731773686256494"
      ]
     },
     "execution_count": 5,
     "metadata": {},
     "output_type": "execute_result"
    }
   ],
   "source": [
    "voting_ensemble.get_accuracy()"
   ]
  },
  {
   "cell_type": "code",
   "execution_count": 6,
   "id": "f11afe77",
   "metadata": {},
   "outputs": [
    {
     "name": "stdout",
     "output_type": "stream",
     "text": [
      "              precision    recall  f1-score   support\n",
      "\n",
      "           0       0.97      1.00      0.98     23429\n",
      "           1       0.98      0.86      0.92      4868\n",
      "\n",
      "    accuracy                           0.97     28297\n",
      "   macro avg       0.98      0.93      0.95     28297\n",
      "weighted avg       0.97      0.97      0.97     28297\n",
      "\n"
     ]
    }
   ],
   "source": [
    "print(voting_ensemble.get_classification_report())"
   ]
  },
  {
   "cell_type": "code",
   "execution_count": 7,
   "id": "294b1be7",
   "metadata": {},
   "outputs": [],
   "source": [
    "voting_ensemble.save_model(\"voting_ensemble1.pkl\", \"..//models/\")"
   ]
  }
 ],
 "metadata": {
  "kernelspec": {
   "display_name": "Python 3 (ipykernel)",
   "language": "python",
   "name": "python3"
  },
  "language_info": {
   "codemirror_mode": {
    "name": "ipython",
    "version": 3
   },
   "file_extension": ".py",
   "mimetype": "text/x-python",
   "name": "python",
   "nbconvert_exporter": "python",
   "pygments_lexer": "ipython3",
   "version": "3.9.12"
  }
 },
 "nbformat": 4,
 "nbformat_minor": 5
}
