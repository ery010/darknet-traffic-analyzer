{
 "cells": [
  {
   "cell_type": "code",
   "execution_count": 5,
   "id": "74d97c6b",
   "metadata": {},
   "outputs": [],
   "source": [
    "import os\n",
    "import sys\n",
    "sys.path.append(os.path.abspath(os.path.join(os.getcwd(), '..')))\n",
    "\n",
    "import pickle\n",
    "import pandas as pd"
   ]
  },
  {
   "cell_type": "code",
   "execution_count": 3,
   "id": "b683d855",
   "metadata": {},
   "outputs": [],
   "source": [
    "# Load model\n",
    "\n",
    "with open(\"..//models/voting_ensemble1.pkl\", 'rb') as file:\n",
    "    model = pickle.load(file)"
   ]
  },
  {
   "cell_type": "code",
   "execution_count": 14,
   "id": "dc1ccf0c",
   "metadata": {},
   "outputs": [],
   "source": [
    "# Generate synthetic data\n",
    "\n",
    "data = pd.read_csv(\"..//data/darknet_X_train.csv\")\n",
    "labels = pd.read_csv(\"..//data/darknet_y_train.csv\")\n",
    "data[\"Label\"] = labels\n",
    "\n",
    "n_samples = 10000\n",
    "bootsrapped_data = data.sample(n=n_samples, replace=True)"
   ]
  }
 ],
 "metadata": {
  "kernelspec": {
   "display_name": "Python 3 (ipykernel)",
   "language": "python",
   "name": "python3"
  },
  "language_info": {
   "codemirror_mode": {
    "name": "ipython",
    "version": 3
   },
   "file_extension": ".py",
   "mimetype": "text/x-python",
   "name": "python",
   "nbconvert_exporter": "python",
   "pygments_lexer": "ipython3",
   "version": "3.9.12"
  }
 },
 "nbformat": 4,
 "nbformat_minor": 5
}
